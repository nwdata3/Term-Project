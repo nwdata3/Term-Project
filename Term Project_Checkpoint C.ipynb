{
 "cells": [
  {
   "cell_type": "code",
   "execution_count": 1,
   "id": "0c0cb6bb",
   "metadata": {},
   "outputs": [],
   "source": [
    "\n",
    "import numpy as np\n",
    "import pandas as pd\n",
    "import matplotlib.pyplot as plt\n",
    "%matplotlib inline"
   ]
  },
  {
   "cell_type": "code",
   "execution_count": 2,
   "id": "06735a17",
   "metadata": {},
   "outputs": [
    {
     "name": "stdout",
     "output_type": "stream",
     "text": [
      "Requirement already satisfied: yfinance in c:\\users\\reill\\appdata\\local\\packages\\pythonsoftwarefoundation.python.3.11_qbz5n2kfra8p0\\localcache\\local-packages\\python311\\site-packages (0.2.64)\n",
      "Requirement already satisfied: pandas>=1.3.0 in c:\\users\\reill\\appdata\\local\\packages\\pythonsoftwarefoundation.python.3.11_qbz5n2kfra8p0\\localcache\\local-packages\\python311\\site-packages (from yfinance) (2.1.1)\n",
      "Requirement already satisfied: numpy>=1.16.5 in c:\\users\\reill\\appdata\\local\\packages\\pythonsoftwarefoundation.python.3.11_qbz5n2kfra8p0\\localcache\\local-packages\\python311\\site-packages (from yfinance) (1.26.1)\n",
      "Requirement already satisfied: requests>=2.31 in c:\\users\\reill\\appdata\\local\\packages\\pythonsoftwarefoundation.python.3.11_qbz5n2kfra8p0\\localcache\\local-packages\\python311\\site-packages (from yfinance) (2.31.0)\n",
      "Requirement already satisfied: multitasking>=0.0.7 in c:\\users\\reill\\appdata\\local\\packages\\pythonsoftwarefoundation.python.3.11_qbz5n2kfra8p0\\localcache\\local-packages\\python311\\site-packages (from yfinance) (0.0.11)\n",
      "Requirement already satisfied: platformdirs>=2.0.0 in c:\\users\\reill\\appdata\\local\\packages\\pythonsoftwarefoundation.python.3.11_qbz5n2kfra8p0\\localcache\\local-packages\\python311\\site-packages (from yfinance) (3.11.0)\n",
      "Requirement already satisfied: pytz>=2022.5 in c:\\users\\reill\\appdata\\local\\packages\\pythonsoftwarefoundation.python.3.11_qbz5n2kfra8p0\\localcache\\local-packages\\python311\\site-packages (from yfinance) (2023.3.post1)\n",
      "Requirement already satisfied: frozendict>=2.3.4 in c:\\users\\reill\\appdata\\local\\packages\\pythonsoftwarefoundation.python.3.11_qbz5n2kfra8p0\\localcache\\local-packages\\python311\\site-packages (from yfinance) (2.4.6)\n",
      "Requirement already satisfied: peewee>=3.16.2 in c:\\users\\reill\\appdata\\local\\packages\\pythonsoftwarefoundation.python.3.11_qbz5n2kfra8p0\\localcache\\local-packages\\python311\\site-packages (from yfinance) (3.17.8)\n",
      "Requirement already satisfied: beautifulsoup4>=4.11.1 in c:\\users\\reill\\appdata\\local\\packages\\pythonsoftwarefoundation.python.3.11_qbz5n2kfra8p0\\localcache\\local-packages\\python311\\site-packages (from yfinance) (4.12.2)\n",
      "Requirement already satisfied: curl_cffi>=0.7 in c:\\users\\reill\\appdata\\local\\packages\\pythonsoftwarefoundation.python.3.11_qbz5n2kfra8p0\\localcache\\local-packages\\python311\\site-packages (from yfinance) (0.11.4)\n",
      "Requirement already satisfied: protobuf>=3.19.0 in c:\\users\\reill\\appdata\\local\\packages\\pythonsoftwarefoundation.python.3.11_qbz5n2kfra8p0\\localcache\\local-packages\\python311\\site-packages (from yfinance) (5.28.3)\n",
      "Requirement already satisfied: websockets>=13.0 in c:\\users\\reill\\appdata\\local\\packages\\pythonsoftwarefoundation.python.3.11_qbz5n2kfra8p0\\localcache\\local-packages\\python311\\site-packages (from yfinance) (15.0.1)\n",
      "Requirement already satisfied: soupsieve>1.2 in c:\\users\\reill\\appdata\\local\\packages\\pythonsoftwarefoundation.python.3.11_qbz5n2kfra8p0\\localcache\\local-packages\\python311\\site-packages (from beautifulsoup4>=4.11.1->yfinance) (2.5)\n",
      "Requirement already satisfied: cffi>=1.12.0 in c:\\users\\reill\\appdata\\local\\packages\\pythonsoftwarefoundation.python.3.11_qbz5n2kfra8p0\\localcache\\local-packages\\python311\\site-packages (from curl_cffi>=0.7->yfinance) (1.16.0)\n",
      "Requirement already satisfied: certifi>=2024.2.2 in c:\\users\\reill\\appdata\\local\\packages\\pythonsoftwarefoundation.python.3.11_qbz5n2kfra8p0\\localcache\\local-packages\\python311\\site-packages (from curl_cffi>=0.7->yfinance) (2025.6.15)\n",
      "Requirement already satisfied: python-dateutil>=2.8.2 in c:\\users\\reill\\appdata\\local\\packages\\pythonsoftwarefoundation.python.3.11_qbz5n2kfra8p0\\localcache\\local-packages\\python311\\site-packages (from pandas>=1.3.0->yfinance) (2.8.2)\n",
      "Requirement already satisfied: tzdata>=2022.1 in c:\\users\\reill\\appdata\\local\\packages\\pythonsoftwarefoundation.python.3.11_qbz5n2kfra8p0\\localcache\\local-packages\\python311\\site-packages (from pandas>=1.3.0->yfinance) (2023.3)\n",
      "Requirement already satisfied: charset-normalizer<4,>=2 in c:\\users\\reill\\appdata\\local\\packages\\pythonsoftwarefoundation.python.3.11_qbz5n2kfra8p0\\localcache\\local-packages\\python311\\site-packages (from requests>=2.31->yfinance) (3.3.2)\n",
      "Requirement already satisfied: idna<4,>=2.5 in c:\\users\\reill\\appdata\\local\\packages\\pythonsoftwarefoundation.python.3.11_qbz5n2kfra8p0\\localcache\\local-packages\\python311\\site-packages (from requests>=2.31->yfinance) (3.4)\n",
      "Requirement already satisfied: urllib3<3,>=1.21.1 in c:\\users\\reill\\appdata\\local\\packages\\pythonsoftwarefoundation.python.3.11_qbz5n2kfra8p0\\localcache\\local-packages\\python311\\site-packages (from requests>=2.31->yfinance) (1.26.20)\n",
      "Requirement already satisfied: pycparser in c:\\users\\reill\\appdata\\local\\packages\\pythonsoftwarefoundation.python.3.11_qbz5n2kfra8p0\\localcache\\local-packages\\python311\\site-packages (from cffi>=1.12.0->curl_cffi>=0.7->yfinance) (2.21)\n",
      "Requirement already satisfied: six>=1.5 in c:\\users\\reill\\appdata\\local\\packages\\pythonsoftwarefoundation.python.3.11_qbz5n2kfra8p0\\localcache\\local-packages\\python311\\site-packages (from python-dateutil>=2.8.2->pandas>=1.3.0->yfinance) (1.16.0)\n",
      "Note: you may need to restart the kernel to use updated packages.\n"
     ]
    },
    {
     "name": "stderr",
     "output_type": "stream",
     "text": [
      "\n",
      "[notice] A new release of pip is available: 25.0.1 -> 25.2\n",
      "[notice] To update, run: C:\\Users\\reill\\AppData\\Local\\Microsoft\\WindowsApps\\PythonSoftwareFoundation.Python.3.11_qbz5n2kfra8p0\\python.exe -m pip install --upgrade pip\n"
     ]
    }
   ],
   "source": [
    "pip install yfinance"
   ]
  },
  {
   "cell_type": "code",
   "execution_count": null,
   "id": "4ff7926d",
   "metadata": {},
   "outputs": [],
   "source": [
    "import yfinance as yf\n"
   ]
  },
  {
   "cell_type": "code",
   "execution_count": 4,
   "id": "d78086de",
   "metadata": {},
   "outputs": [
    {
     "name": "stderr",
     "output_type": "stream",
     "text": [
      "C:\\Users\\reill\\AppData\\Local\\Temp\\ipykernel_31984\\2968685607.py:9: FutureWarning: YF.download() has changed argument auto_adjust default to True\n",
      "  data = yf.download(ticker, start=\"2001-01-01\", end=\"2025-08-15\")\n",
      "[*********************100%***********************]  1 of 1 completed"
     ]
    },
    {
     "name": "stdout",
     "output_type": "stream",
     "text": [
      "CSV saved to: C:\\Users\\reill\\OneDrive\\Documents\\Python Scripts\\msds_451\\ENB_daily_prices.csv\n"
     ]
    },
    {
     "name": "stderr",
     "output_type": "stream",
     "text": [
      "\n"
     ]
    }
   ],
   "source": [
    "import os\n",
    "\n",
    "# Set folder\n",
    "folder_path = r\"C:\\Users\\reill\\OneDrive\\Documents\\Python Scripts\\msds_451\"\n",
    "os.makedirs(folder_path, exist_ok=True)\n",
    "\n",
    "# Download stock data\n",
    "ticker = \"ENB\"\n",
    "data = yf.download(ticker, start=\"2001-01-01\", end=\"2025-08-15\")\n",
    "\n",
    "# Reset index to move 'Date' from index to column\n",
    "data = data.reset_index()\n",
    "\n",
    "# Save to CSV\n",
    "file_path = os.path.join(folder_path, f\"{ticker}_daily_prices.csv\")\n",
    "data.to_csv(file_path, index=False)\n",
    "\n",
    "print(f\"CSV saved to: {file_path}\")\n"
   ]
  },
  {
   "cell_type": "code",
   "execution_count": 5,
   "id": "53bfa432",
   "metadata": {},
   "outputs": [
    {
     "name": "stderr",
     "output_type": "stream",
     "text": [
      "C:\\Users\\reill\\AppData\\Local\\Temp\\ipykernel_31984\\1960386046.py:10: FutureWarning: YF.download() has changed argument auto_adjust default to True\n",
      "  data = yf.download(ticker, start=\"2001-01-01\", end=\"2025-08-15\")\n",
      "[*********************100%***********************]  1 of 1 completed"
     ]
    },
    {
     "name": "stdout",
     "output_type": "stream",
     "text": [
      "CSV saved to: C:\\Users\\reill\\OneDrive\\Documents\\Python Scripts\\msds_451\\NEE_daily_prices.csv\n"
     ]
    },
    {
     "name": "stderr",
     "output_type": "stream",
     "text": [
      "\n"
     ]
    }
   ],
   "source": [
    "import yfinance as yf\n",
    "import os\n",
    "\n",
    "# Set folder\n",
    "folder_path = r\"C:\\Users\\reill\\OneDrive\\Documents\\Python Scripts\\msds_451\"\n",
    "os.makedirs(folder_path, exist_ok=True)\n",
    "\n",
    "# Download stock data\n",
    "ticker = \"NEE\"\n",
    "data = yf.download(ticker, start=\"2001-01-01\", end=\"2025-08-15\")\n",
    "\n",
    "# Reset index to move 'Date' from index to column\n",
    "data = data.reset_index()\n",
    "\n",
    "# Save to CSV\n",
    "file_path = os.path.join(folder_path, f\"{ticker}_daily_prices.csv\")\n",
    "data.to_csv(file_path, index=False)\n",
    "\n",
    "print(f\"CSV saved to: {file_path}\")\n"
   ]
  },
  {
   "cell_type": "code",
   "execution_count": 17,
   "id": "83e0f748",
   "metadata": {},
   "outputs": [
    {
     "name": "stderr",
     "output_type": "stream",
     "text": [
      "C:\\Users\\reill\\AppData\\Local\\Temp\\ipykernel_4108\\4271906986.py:10: FutureWarning: YF.download() has changed argument auto_adjust default to True\n",
      "  data = yf.download(ticker, start=\"2001-01-01\", end=\"2025-08-15\")\n",
      "[*********************100%***********************]  1 of 1 completed"
     ]
    },
    {
     "name": "stdout",
     "output_type": "stream",
     "text": [
      "CSV saved to: C:\\Users\\reill\\OneDrive\\Documents\\Python Scripts\\msds_451\\BEP_daily_prices.csv\n"
     ]
    },
    {
     "name": "stderr",
     "output_type": "stream",
     "text": [
      "\n"
     ]
    }
   ],
   "source": [
    "import yfinance as yf\n",
    "import os\n",
    "\n",
    "# Set folder\n",
    "folder_path = r\"C:\\Users\\reill\\OneDrive\\Documents\\Python Scripts\\msds_451\"\n",
    "os.makedirs(folder_path, exist_ok=True)\n",
    "\n",
    "# Download stock data\n",
    "ticker = \"BEP\"\n",
    "data = yf.download(ticker, start=\"2001-01-01\", end=\"2025-08-15\")\n",
    "\n",
    "# Reset index to move 'Date' from index to column\n",
    "data = data.reset_index()\n",
    "\n",
    "# Save to CSV\n",
    "file_path = os.path.join(folder_path, f\"{ticker}_daily_prices.csv\")\n",
    "data.to_csv(file_path, index=False)\n",
    "\n",
    "print(f\"CSV saved to: {file_path}\")\n"
   ]
  },
  {
   "cell_type": "code",
   "execution_count": 18,
   "id": "06958dda",
   "metadata": {},
   "outputs": [
    {
     "name": "stderr",
     "output_type": "stream",
     "text": [
      "C:\\Users\\reill\\AppData\\Local\\Temp\\ipykernel_4108\\3476645956.py:10: FutureWarning: YF.download() has changed argument auto_adjust default to True\n",
      "  data = yf.download(ticker, start=\"2001-01-01\", end=\"2025-08-15\")\n",
      "[*********************100%***********************]  1 of 1 completed"
     ]
    },
    {
     "name": "stdout",
     "output_type": "stream",
     "text": [
      "CSV saved to: C:\\Users\\reill\\OneDrive\\Documents\\Python Scripts\\msds_451\\CWEN_daily_prices.csv\n"
     ]
    },
    {
     "name": "stderr",
     "output_type": "stream",
     "text": [
      "\n"
     ]
    }
   ],
   "source": [
    "import yfinance as yf\n",
    "import os\n",
    "\n",
    "# Set folder\n",
    "folder_path = r\"C:\\Users\\reill\\OneDrive\\Documents\\Python Scripts\\msds_451\"\n",
    "os.makedirs(folder_path, exist_ok=True)\n",
    "\n",
    "# Download stock data\n",
    "ticker = \"CWEN\"\n",
    "data = yf.download(ticker, start=\"2001-01-01\", end=\"2025-08-15\")\n",
    "\n",
    "# Reset index to move 'Date' from index to column\n",
    "data = data.reset_index()\n",
    "\n",
    "# Save to CSV\n",
    "file_path = os.path.join(folder_path, f\"{ticker}_daily_prices.csv\")\n",
    "data.to_csv(file_path, index=False)\n",
    "\n",
    "print(f\"CSV saved to: {file_path}\")\n"
   ]
  },
  {
   "cell_type": "code",
   "execution_count": 6,
   "id": "383ada78",
   "metadata": {},
   "outputs": [
    {
     "name": "stderr",
     "output_type": "stream",
     "text": [
      "C:\\Users\\reill\\AppData\\Local\\Temp\\ipykernel_31984\\574998945.py:10: FutureWarning: YF.download() has changed argument auto_adjust default to True\n",
      "  data = yf.download(ticker, start=\"2001-01-01\", end=\"2025-08-15\")\n",
      "[*********************100%***********************]  1 of 1 completed"
     ]
    },
    {
     "name": "stdout",
     "output_type": "stream",
     "text": [
      "CSV saved to: C:\\Users\\reill\\OneDrive\\Documents\\Python Scripts\\msds_451\\XOM_daily_prices.csv\n"
     ]
    },
    {
     "name": "stderr",
     "output_type": "stream",
     "text": [
      "\n"
     ]
    }
   ],
   "source": [
    "import yfinance as yf\n",
    "import os\n",
    "\n",
    "# Set folder\n",
    "folder_path = r\"C:\\Users\\reill\\OneDrive\\Documents\\Python Scripts\\msds_451\"\n",
    "os.makedirs(folder_path, exist_ok=True)\n",
    "\n",
    "# Download stock data\n",
    "ticker = \"XOM\"\n",
    "data = yf.download(ticker, start=\"2001-01-01\", end=\"2025-08-15\")\n",
    "\n",
    "# Reset index to move 'Date' from index to column\n",
    "data = data.reset_index()\n",
    "\n",
    "# Save to CSV\n",
    "file_path = os.path.join(folder_path, f\"{ticker}_daily_prices.csv\")\n",
    "data.to_csv(file_path, index=False)\n",
    "\n",
    "print(f\"CSV saved to: {file_path}\")\n"
   ]
  },
  {
   "cell_type": "code",
   "execution_count": 7,
   "id": "021de208",
   "metadata": {},
   "outputs": [
    {
     "name": "stderr",
     "output_type": "stream",
     "text": [
      "C:\\Users\\reill\\AppData\\Local\\Temp\\ipykernel_31984\\3090891339.py:10: FutureWarning: YF.download() has changed argument auto_adjust default to True\n",
      "  data = yf.download(ticker, start=\"2001-01-01\", end=\"2025-08-15\")\n",
      "[*********************100%***********************]  1 of 1 completed"
     ]
    },
    {
     "name": "stdout",
     "output_type": "stream",
     "text": [
      "CSV saved to: C:\\Users\\reill\\OneDrive\\Documents\\Python Scripts\\msds_451\\CVX_daily_prices.csv\n"
     ]
    },
    {
     "name": "stderr",
     "output_type": "stream",
     "text": [
      "\n"
     ]
    }
   ],
   "source": [
    "import yfinance as yf\n",
    "import os\n",
    "\n",
    "# Set folder\n",
    "folder_path = r\"C:\\Users\\reill\\OneDrive\\Documents\\Python Scripts\\msds_451\"\n",
    "os.makedirs(folder_path, exist_ok=True)\n",
    "\n",
    "# Download stock data\n",
    "ticker = \"CVX\"\n",
    "data = yf.download(ticker, start=\"2001-01-01\", end=\"2025-08-15\")\n",
    "\n",
    "# Reset index to move 'Date' from index to column\n",
    "data = data.reset_index()\n",
    "\n",
    "# Save to CSV\n",
    "file_path = os.path.join(folder_path, f\"{ticker}_daily_prices.csv\")\n",
    "data.to_csv(file_path, index=False)\n",
    "\n",
    "print(f\"CSV saved to: {file_path}\")\n"
   ]
  },
  {
   "cell_type": "code",
   "execution_count": 9,
   "id": "a05cfa54",
   "metadata": {},
   "outputs": [
    {
     "name": "stderr",
     "output_type": "stream",
     "text": [
      "C:\\Users\\reill\\AppData\\Local\\Temp\\ipykernel_31984\\1124589635.py:10: FutureWarning: YF.download() has changed argument auto_adjust default to True\n",
      "  data = yf.download(ticker, start=\"2001-01-01\", end=\"2025-08-15\")\n",
      "[*********************100%***********************]  1 of 1 completed"
     ]
    },
    {
     "name": "stdout",
     "output_type": "stream",
     "text": [
      "CSV saved to: C:\\Users\\reill\\OneDrive\\Documents\\Python Scripts\\msds_451\\COP_daily_prices.csv\n"
     ]
    },
    {
     "name": "stderr",
     "output_type": "stream",
     "text": [
      "\n"
     ]
    }
   ],
   "source": [
    "import yfinance as yf\n",
    "import os\n",
    "\n",
    "# Set folder\n",
    "folder_path = r\"C:\\Users\\reill\\OneDrive\\Documents\\Python Scripts\\msds_451\"\n",
    "os.makedirs(folder_path, exist_ok=True)\n",
    "\n",
    "# Download stock data\n",
    "ticker = \"COP\"\n",
    "data = yf.download(ticker, start=\"2001-01-01\", end=\"2025-08-15\")\n",
    "\n",
    "# Reset index to move 'Date' from index to column\n",
    "data = data.reset_index()\n",
    "\n",
    "# Save to CSV\n",
    "file_path = os.path.join(folder_path, f\"{ticker}_daily_prices.csv\")\n",
    "data.to_csv(file_path, index=False)\n",
    "\n",
    "print(f\"CSV saved to: {file_path}\")\n"
   ]
  },
  {
   "cell_type": "code",
   "execution_count": 18,
   "id": "e283a0c4",
   "metadata": {},
   "outputs": [
    {
     "name": "stderr",
     "output_type": "stream",
     "text": [
      "C:\\Users\\reill\\AppData\\Local\\Temp\\ipykernel_31984\\2657631384.py:10: FutureWarning: YF.download() has changed argument auto_adjust default to True\n",
      "  data = yf.download(ticker, start=\"2001-01-01\", end=\"2025-08-15\")\n",
      "[*********************100%***********************]  1 of 1 completed"
     ]
    },
    {
     "name": "stdout",
     "output_type": "stream",
     "text": [
      "CSV saved to: C:\\Users\\reill\\OneDrive\\Documents\\Python Scripts\\msds_451\\WMB_daily_prices.csv\n"
     ]
    },
    {
     "name": "stderr",
     "output_type": "stream",
     "text": [
      "\n"
     ]
    }
   ],
   "source": [
    "import yfinance as yf\n",
    "import os\n",
    "\n",
    "# Set folder\n",
    "folder_path = r\"C:\\Users\\reill\\OneDrive\\Documents\\Python Scripts\\msds_451\"\n",
    "os.makedirs(folder_path, exist_ok=True)\n",
    "\n",
    "# Download stock data\n",
    "ticker = \"WMB\"\n",
    "data = yf.download(ticker, start=\"2001-01-01\", end=\"2025-08-15\")\n",
    "\n",
    "# Reset index to move 'Date' from index to column\n",
    "data = data.reset_index()\n",
    "\n",
    "# Save to CSV\n",
    "file_path = os.path.join(folder_path, f\"{ticker}_daily_prices.csv\")\n",
    "data.to_csv(file_path, index=False)\n",
    "\n",
    "print(f\"CSV saved to: {file_path}\")\n"
   ]
  },
  {
   "cell_type": "code",
   "execution_count": 11,
   "id": "6f7fea4e",
   "metadata": {},
   "outputs": [
    {
     "name": "stderr",
     "output_type": "stream",
     "text": [
      "C:\\Users\\reill\\AppData\\Local\\Temp\\ipykernel_31984\\388965437.py:10: FutureWarning: YF.download() has changed argument auto_adjust default to True\n",
      "  data = yf.download(ticker, start=\"2001-01-01\", end=\"2025-08-15\")\n",
      "[*********************100%***********************]  1 of 1 completed"
     ]
    },
    {
     "name": "stdout",
     "output_type": "stream",
     "text": [
      "CSV saved to: C:\\Users\\reill\\OneDrive\\Documents\\Python Scripts\\msds_451\\EOG_daily_prices.csv\n"
     ]
    },
    {
     "name": "stderr",
     "output_type": "stream",
     "text": [
      "\n"
     ]
    }
   ],
   "source": [
    "import yfinance as yf\n",
    "import os\n",
    "\n",
    "# Set folder\n",
    "folder_path = r\"C:\\Users\\reill\\OneDrive\\Documents\\Python Scripts\\msds_451\"\n",
    "os.makedirs(folder_path, exist_ok=True)\n",
    "\n",
    "# Download stock data\n",
    "ticker = \"EOG\"\n",
    "data = yf.download(ticker, start=\"2001-01-01\", end=\"2025-08-15\")\n",
    "\n",
    "# Reset index to move 'Date' from index to column\n",
    "data = data.reset_index()\n",
    "\n",
    "# Save to CSV\n",
    "file_path = os.path.join(folder_path, f\"{ticker}_daily_prices.csv\")\n",
    "data.to_csv(file_path, index=False)\n",
    "\n",
    "print(f\"CSV saved to: {file_path}\")\n"
   ]
  },
  {
   "cell_type": "code",
   "execution_count": 12,
   "id": "ee31c3cb",
   "metadata": {},
   "outputs": [
    {
     "name": "stderr",
     "output_type": "stream",
     "text": [
      "C:\\Users\\reill\\AppData\\Local\\Temp\\ipykernel_31984\\30356083.py:10: FutureWarning: YF.download() has changed argument auto_adjust default to True\n",
      "  data = yf.download(ticker, start=\"2001-01-01\", end=\"2025-08-15\")\n",
      "[*********************100%***********************]  1 of 1 completed"
     ]
    },
    {
     "name": "stdout",
     "output_type": "stream",
     "text": [
      "CSV saved to: C:\\Users\\reill\\OneDrive\\Documents\\Python Scripts\\msds_451\\KMI_daily_prices.csv\n"
     ]
    },
    {
     "name": "stderr",
     "output_type": "stream",
     "text": [
      "\n"
     ]
    }
   ],
   "source": [
    "import yfinance as yf\n",
    "import os\n",
    "\n",
    "# Set folder\n",
    "folder_path = r\"C:\\Users\\reill\\OneDrive\\Documents\\Python Scripts\\msds_451\"\n",
    "os.makedirs(folder_path, exist_ok=True)\n",
    "\n",
    "# Download stock data\n",
    "ticker = \"KMI\"\n",
    "data = yf.download(ticker, start=\"2001-01-01\", end=\"2025-08-15\")\n",
    "\n",
    "# Reset index to move 'Date' from index to column\n",
    "data = data.reset_index()\n",
    "\n",
    "# Save to CSV\n",
    "file_path = os.path.join(folder_path, f\"{ticker}_daily_prices.csv\")\n",
    "data.to_csv(file_path, index=False)\n",
    "\n",
    "print(f\"CSV saved to: {file_path}\")\n"
   ]
  },
  {
   "cell_type": "code",
   "execution_count": 13,
   "id": "7441e798",
   "metadata": {},
   "outputs": [
    {
     "name": "stderr",
     "output_type": "stream",
     "text": [
      "C:\\Users\\reill\\AppData\\Local\\Temp\\ipykernel_31984\\2470036117.py:10: FutureWarning: YF.download() has changed argument auto_adjust default to True\n",
      "  data = yf.download(ticker, start=\"2001-01-01\", end=\"2025-08-15\")\n",
      "[*********************100%***********************]  1 of 1 completed"
     ]
    },
    {
     "name": "stdout",
     "output_type": "stream",
     "text": [
      "CSV saved to: C:\\Users\\reill\\OneDrive\\Documents\\Python Scripts\\msds_451\\MPC_daily_prices.csv\n"
     ]
    },
    {
     "name": "stderr",
     "output_type": "stream",
     "text": [
      "\n"
     ]
    }
   ],
   "source": [
    "import yfinance as yf\n",
    "import os\n",
    "\n",
    "# Set folder\n",
    "folder_path = r\"C:\\Users\\reill\\OneDrive\\Documents\\Python Scripts\\msds_451\"\n",
    "os.makedirs(folder_path, exist_ok=True)\n",
    "\n",
    "# Download stock data\n",
    "ticker = \"MPC\"\n",
    "data = yf.download(ticker, start=\"2001-01-01\", end=\"2025-08-15\")\n",
    "\n",
    "# Reset index to move 'Date' from index to column\n",
    "data = data.reset_index()\n",
    "\n",
    "# Save to CSV\n",
    "file_path = os.path.join(folder_path, f\"{ticker}_daily_prices.csv\")\n",
    "data.to_csv(file_path, index=False)\n",
    "\n",
    "print(f\"CSV saved to: {file_path}\")\n"
   ]
  },
  {
   "cell_type": "code",
   "execution_count": 14,
   "id": "ce93a834",
   "metadata": {},
   "outputs": [
    {
     "name": "stderr",
     "output_type": "stream",
     "text": [
      "C:\\Users\\reill\\AppData\\Local\\Temp\\ipykernel_31984\\2675265064.py:10: FutureWarning: YF.download() has changed argument auto_adjust default to True\n",
      "  data = yf.download(ticker, start=\"2001-01-01\", end=\"2025-08-15\")\n",
      "[*********************100%***********************]  1 of 1 completed"
     ]
    },
    {
     "name": "stdout",
     "output_type": "stream",
     "text": [
      "CSV saved to: C:\\Users\\reill\\OneDrive\\Documents\\Python Scripts\\msds_451\\OKE_daily_prices.csv\n"
     ]
    },
    {
     "name": "stderr",
     "output_type": "stream",
     "text": [
      "\n"
     ]
    }
   ],
   "source": [
    "import yfinance as yf\n",
    "import os\n",
    "\n",
    "# Set folder\n",
    "folder_path = r\"C:\\Users\\reill\\OneDrive\\Documents\\Python Scripts\\msds_451\"\n",
    "os.makedirs(folder_path, exist_ok=True)\n",
    "\n",
    "# Download stock data\n",
    "ticker = \"OKE\"\n",
    "data = yf.download(ticker, start=\"2001-01-01\", end=\"2025-08-15\")\n",
    "\n",
    "# Reset index to move 'Date' from index to column\n",
    "data = data.reset_index()\n",
    "\n",
    "# Save to CSV\n",
    "file_path = os.path.join(folder_path, f\"{ticker}_daily_prices.csv\")\n",
    "data.to_csv(file_path, index=False)\n",
    "\n",
    "print(f\"CSV saved to: {file_path}\")\n"
   ]
  },
  {
   "cell_type": "code",
   "execution_count": 15,
   "id": "311f53e0",
   "metadata": {},
   "outputs": [
    {
     "name": "stderr",
     "output_type": "stream",
     "text": [
      "C:\\Users\\reill\\AppData\\Local\\Temp\\ipykernel_31984\\216768593.py:10: FutureWarning: YF.download() has changed argument auto_adjust default to True\n",
      "  data = yf.download(ticker, start=\"2001-01-01\", end=\"2025-08-15\")\n",
      "[*********************100%***********************]  1 of 1 completed"
     ]
    },
    {
     "name": "stdout",
     "output_type": "stream",
     "text": [
      "CSV saved to: C:\\Users\\reill\\OneDrive\\Documents\\Python Scripts\\msds_451\\SLB_daily_prices.csv\n"
     ]
    },
    {
     "name": "stderr",
     "output_type": "stream",
     "text": [
      "\n"
     ]
    }
   ],
   "source": [
    "import yfinance as yf\n",
    "import os\n",
    "\n",
    "# Set folder\n",
    "folder_path = r\"C:\\Users\\reill\\OneDrive\\Documents\\Python Scripts\\msds_451\"\n",
    "os.makedirs(folder_path, exist_ok=True)\n",
    "\n",
    "# Download stock data\n",
    "ticker = \"SLB\"\n",
    "data = yf.download(ticker, start=\"2001-01-01\", end=\"2025-08-15\")\n",
    "\n",
    "# Reset index to move 'Date' from index to column\n",
    "data = data.reset_index()\n",
    "\n",
    "# Save to CSV\n",
    "file_path = os.path.join(folder_path, f\"{ticker}_daily_prices.csv\")\n",
    "data.to_csv(file_path, index=False)\n",
    "\n",
    "print(f\"CSV saved to: {file_path}\")\n"
   ]
  },
  {
   "cell_type": "code",
   "execution_count": 16,
   "id": "b3d6c23c",
   "metadata": {},
   "outputs": [
    {
     "name": "stderr",
     "output_type": "stream",
     "text": [
      "C:\\Users\\reill\\AppData\\Local\\Temp\\ipykernel_31984\\2194347623.py:10: FutureWarning: YF.download() has changed argument auto_adjust default to True\n",
      "  data = yf.download(ticker, start=\"2001-01-01\", end=\"2025-08-15\")\n",
      "[*********************100%***********************]  1 of 1 completed"
     ]
    },
    {
     "name": "stdout",
     "output_type": "stream",
     "text": [
      "CSV saved to: C:\\Users\\reill\\OneDrive\\Documents\\Python Scripts\\msds_451\\PSX_daily_prices.csv\n"
     ]
    },
    {
     "name": "stderr",
     "output_type": "stream",
     "text": [
      "\n"
     ]
    }
   ],
   "source": [
    "import yfinance as yf\n",
    "import os\n",
    "\n",
    "# Set folder\n",
    "folder_path = r\"C:\\Users\\reill\\OneDrive\\Documents\\Python Scripts\\msds_451\"\n",
    "os.makedirs(folder_path, exist_ok=True)\n",
    "\n",
    "# Download stock data\n",
    "ticker = \"PSX\"\n",
    "data = yf.download(ticker, start=\"2001-01-01\", end=\"2025-08-15\")\n",
    "\n",
    "# Reset index to move 'Date' from index to column\n",
    "data = data.reset_index()\n",
    "\n",
    "# Save to CSV\n",
    "file_path = os.path.join(folder_path, f\"{ticker}_daily_prices.csv\")\n",
    "data.to_csv(file_path, index=False)\n",
    "\n",
    "print(f\"CSV saved to: {file_path}\")\n"
   ]
  },
  {
   "cell_type": "code",
   "execution_count": 19,
   "id": "9d19b7ac",
   "metadata": {},
   "outputs": [],
   "source": [
    "import pandas as pd\n",
    "\n",
    "BEP_path = r\"C:\\Users\\reill\\OneDrive\\Documents\\Python Scripts\\msds_451\\BEP_daily_prices.csv\"\n",
    "NEE_path = r\"C:\\Users\\reill\\OneDrive\\Documents\\Python Scripts\\msds_451\\NEE_daily_prices.csv\"\n",
    "CWEN_path = r\"C:\\Users\\reill\\OneDrive\\Documents\\Python Scripts\\msds_451\\CWEN_daily_prices.csv\"\n",
    "ENB_path = r\"C:\\Users\\reill\\OneDrive\\Documents\\Python Scripts\\msds_451\\ENB_daily_prices.csv\"\n",
    "XOM_path = r\"C:\\Users\\reill\\OneDrive\\Documents\\Python Scripts\\msds_451\\XOM_daily_prices.csv\"\n",
    "CVX_path = r\"C:\\Users\\reill\\OneDrive\\Documents\\Python Scripts\\msds_451\\CVX_daily_prices.csv\"\n",
    "COP_path = r\"C:\\Users\\reill\\OneDrive\\Documents\\Python Scripts\\msds_451\\COP_daily_prices.csv\"\n",
    "WMB_path = r\"C:\\Users\\reill\\OneDrive\\Documents\\Python Scripts\\msds_451\\WMB_daily_prices.csv\"\n",
    "EOG_path = r\"C:\\Users\\reill\\OneDrive\\Documents\\Python Scripts\\msds_451\\EOG_daily_prices.csv\"\n",
    "KMI_path = r\"C:\\Users\\reill\\OneDrive\\Documents\\Python Scripts\\msds_451\\KMI_daily_prices.csv\"\n",
    "MPC_path = r\"C:\\Users\\reill\\OneDrive\\Documents\\Python Scripts\\msds_451\\MPC_daily_prices.csv\"\n",
    "OKE_path = r\"C:\\Users\\reill\\OneDrive\\Documents\\Python Scripts\\msds_451\\OKE_daily_prices.csv\"\n",
    "SLB_path = r\"C:\\Users\\reill\\OneDrive\\Documents\\Python Scripts\\msds_451\\SLB_daily_prices.csv\"\n",
    "PSX_path = r\"C:\\Users\\reill\\OneDrive\\Documents\\Python Scripts\\msds_451\\PSX_daily_prices.csv\"\n",
    "\n",
    "\n",
    "# Read CSV from that folder\n",
    "BEP = pd.read_csv(BEP_path, index_col='Date', parse_dates=True)\n",
    "NEE = pd.read_csv(NEE_path, index_col='Date', parse_dates=True)\n",
    "CWEN = pd.read_csv(CWEN_path, index_col='Date', parse_dates=True)\n",
    "ENB = pd.read_csv(ENB_path, index_col='Date', parse_dates=True)\n",
    "XOM = pd.read_csv(XOM_path, index_col='Date', parse_dates=True)\n",
    "CVX = pd.read_csv(CVX_path, index_col='Date', parse_dates=True)\n",
    "COP = pd.read_csv(COP_path, index_col='Date', parse_dates=True)\n",
    "WMB = pd.read_csv(WMB_path, index_col='Date', parse_dates=True)\n",
    "EOG = pd.read_csv(EOG_path, index_col='Date', parse_dates=True)\n",
    "KMI = pd.read_csv(KMI_path, index_col='Date', parse_dates=True)\n",
    "MPC = pd.read_csv(MPC_path, index_col='Date', parse_dates=True)\n",
    "OKE = pd.read_csv(OKE_path, index_col='Date', parse_dates=True)\n",
    "SLB = pd.read_csv(SLB_path, index_col='Date', parse_dates=True)\n",
    "PSX = pd.read_csv(PSX_path, index_col='Date', parse_dates=True)\n"
   ]
  },
  {
   "cell_type": "code",
   "execution_count": 20,
   "id": "6bb50586",
   "metadata": {},
   "outputs": [],
   "source": [
    "# Select only one column per stock and rename it\n",
    "BEP = BEP[['Close']].rename(columns={'Close': 'BEP'})\n",
    "NEE = NEE[['Close']].rename(columns={'Close': 'NEE'})\n",
    "CWEN = CWEN[['Close']].rename(columns={'Close': 'CWEN'})\n",
    "ENB = ENB[['Close']].rename(columns={'Close': 'ENB'})\n",
    "XOM = XOM[['Close']].rename(columns={'Close': 'XOM'})\n",
    "CVX = CVX[['Close']].rename(columns={'Close': 'CVX'})\n",
    "COP = COP[['Close']].rename(columns={'Close': 'COP'})\n",
    "WMB = WMB[['Close']].rename(columns={'Close': 'WMB'})\n",
    "EOG = EOG[['Close']].rename(columns={'Close': 'EOG'})\n",
    "KMI = KMI[['Close']].rename(columns={'Close': 'KMI'})\n",
    "MPC = MPC[['Close']].rename(columns={'Close': 'MPC'})\n",
    "OKE = OKE[['Close']].rename(columns={'Close': 'OKE'})\n",
    "SLB = SLB[['Close']].rename(columns={'Close': 'SLB'})\n",
    "PSX = PSX[['Close']].rename(columns={'Close': 'PSX'})\n",
    "\n"
   ]
  },
  {
   "cell_type": "code",
   "execution_count": 21,
   "id": "1abc3d35",
   "metadata": {},
   "outputs": [
    {
     "name": "stdout",
     "output_type": "stream",
     "text": [
      "            BEP                 NEE CWEN                 ENB  \\\n",
      "Date                                                           \n",
      "2001-01-02  NaN  4.0713067054748535  NaN   2.382925510406494   \n",
      "2001-01-03  NaN  3.8901968002319336  NaN  2.3100838661193848   \n",
      "2001-01-04  NaN  3.6583800315856934  NaN  2.1696054935455322   \n",
      "2001-01-05  NaN  3.6728687286376953  NaN  2.1852149963378906   \n",
      "2001-01-08  NaN   3.690979480743408  NaN   2.164402723312378   \n",
      "\n",
      "                           XOM                 CVX                COP  \\\n",
      "Date                                                                    \n",
      "2001-01-02  20.236400604248047   17.20533561706543  9.891911506652832   \n",
      "2001-01-03  19.356550216674805  16.542137145996094   9.63188362121582   \n",
      "2001-01-04  18.817291259765625  16.191770553588867  9.512704849243164   \n",
      "2001-01-05  18.902441024780273  16.316904067993164  9.686056137084961   \n",
      "2001-01-08  18.817291259765625   16.27936553955078  9.696893692016602   \n",
      "\n",
      "                           WMB                EOG  KMI  MPC  \\\n",
      "Date                                                          \n",
      "2001-01-02  11.087364196777344  9.212532997131348  NaN  NaN   \n",
      "2001-01-03  10.959504127502441  8.427797317504883  NaN  NaN   \n",
      "2001-01-04  10.338469505310059   7.97631311416626  NaN  NaN   \n",
      "2001-01-05  10.740314483642578  8.223554611206055  NaN  NaN   \n",
      "2001-01-08   10.86817455291748  8.449300765991211  NaN  NaN   \n",
      "\n",
      "                           OKE                 SLB  PSX  \n",
      "Date                                                     \n",
      "2001-01-02   3.177079439163208  25.365468978881836  NaN  \n",
      "2001-01-03  3.1856555938720703   24.74489974975586  NaN  \n",
      "2001-01-04   2.975564956665039   24.10495948791504  NaN  \n",
      "2001-01-05  3.2285289764404297  23.814058303833008  NaN  \n",
      "2001-01-08   3.258542776107788  23.891630172729492  NaN  \n"
     ]
    }
   ],
   "source": [
    "\n",
    "stocks = pd.concat([BEP,NEE,CWEN,ENB,XOM,CVX,COP,WMB,EOG,KMI,MPC,OKE,SLB,PSX],axis=1)\n",
    "stocks.columns = ['BEP','NEE','CWEN','ENB','XOM','CVX','COP','WMB','EOG','KMI','MPC','OKE','SLB','PSX']\n",
    "print(stocks.head())\n"
   ]
  },
  {
   "cell_type": "code",
   "execution_count": 22,
   "id": "9f1841f5",
   "metadata": {},
   "outputs": [
    {
     "name": "stderr",
     "output_type": "stream",
     "text": [
      "C:\\Users\\reill\\AppData\\Local\\Temp\\ipykernel_31984\\2281791566.py:5: FutureWarning: The default fill_method='pad' in DataFrame.pct_change is deprecated and will be removed in a future version. Call ffill before calling pct_change to retain current behavior and silence this warning.\n",
      "  daily_returns = stocks.pct_change().dropna()\n"
     ]
    }
   ],
   "source": [
    "# Convert all columns to numeric (coerce errors)\n",
    "stocks = stocks.apply(pd.to_numeric, errors='coerce')\n",
    "\n",
    "# Daily returns\n",
    "daily_returns = stocks.pct_change().dropna()\n"
   ]
  },
  {
   "cell_type": "code",
   "execution_count": 23,
   "id": "68794e6f",
   "metadata": {},
   "outputs": [
    {
     "name": "stdout",
     "output_type": "stream",
     "text": [
      "     Annual Return Annualized Std Dev\n",
      "BEP         13.79%             30.37%\n",
      "NEE         15.88%             24.96%\n",
      "CWEN        12.95%             34.12%\n",
      "ENB          8.27%             26.23%\n",
      "XOM         10.21%             27.96%\n",
      "CVX         12.19%             29.69%\n",
      "COP         14.37%             38.67%\n",
      "WMB         14.89%             40.91%\n",
      "EOG         13.70%             39.80%\n",
      "KMI          5.55%             31.28%\n",
      "MPC         22.78%             40.93%\n",
      "OKE         20.14%             41.75%\n",
      "SLB          0.81%             39.77%\n",
      "PSX         13.80%             34.99%\n"
     ]
    },
    {
     "name": "stderr",
     "output_type": "stream",
     "text": [
      "C:\\Users\\reill\\AppData\\Local\\Temp\\ipykernel_31984\\4012211899.py:5: FutureWarning: The default fill_method='pad' in DataFrame.pct_change is deprecated and will be removed in a future version. Call ffill before calling pct_change to retain current behavior and silence this warning.\n",
      "  daily_returns = stocks.pct_change().dropna()\n",
      "C:\\Users\\reill\\AppData\\Local\\Temp\\ipykernel_31984\\4012211899.py:18: FutureWarning: DataFrame.applymap has been deprecated. Use DataFrame.map instead.\n",
      "  summary_df = summary_df.applymap(lambda x: f\"{x:.2%}\")\n"
     ]
    }
   ],
   "source": [
    "# Ensure all values are numeric\n",
    "stocks = stocks.apply(pd.to_numeric, errors='coerce')\n",
    "\n",
    "# Calculate daily returns\n",
    "daily_returns = stocks.pct_change().dropna()\n",
    "\n",
    "# Annual metrics\n",
    "annual_returns = daily_returns.mean() * 252\n",
    "annual_std_devs = daily_returns.std() * (252 ** 0.5)\n",
    "\n",
    "# Combine into a summary table\n",
    "summary_df = pd.DataFrame({\n",
    "    'Annual Return': annual_returns,\n",
    "    'Annualized Std Dev': annual_std_devs\n",
    "})\n",
    "\n",
    "# Format as percentages\n",
    "summary_df = summary_df.applymap(lambda x: f\"{x:.2%}\")\n",
    "print(summary_df)\n"
   ]
  },
  {
   "cell_type": "code",
   "execution_count": 32,
   "id": "b5e86d5e",
   "metadata": {},
   "outputs": [
    {
     "name": "stdout",
     "output_type": "stream",
     "text": [
      "Collecting dataframe-image\n",
      "  Downloading dataframe_image-0.2.7-py3-none-any.whl.metadata (9.3 kB)\n",
      "Requirement already satisfied: pandas>=0.24 in c:\\users\\reill\\appdata\\local\\packages\\pythonsoftwarefoundation.python.3.11_qbz5n2kfra8p0\\localcache\\local-packages\\python311\\site-packages (from dataframe-image) (2.1.1)\n",
      "Requirement already satisfied: nbconvert>=5 in c:\\users\\reill\\appdata\\local\\packages\\pythonsoftwarefoundation.python.3.11_qbz5n2kfra8p0\\localcache\\local-packages\\python311\\site-packages (from dataframe-image) (7.11.0)\n",
      "Requirement already satisfied: aiohttp>=3.10.2 in c:\\users\\reill\\appdata\\local\\packages\\pythonsoftwarefoundation.python.3.11_qbz5n2kfra8p0\\localcache\\local-packages\\python311\\site-packages (from dataframe-image) (3.12.14)\n",
      "Requirement already satisfied: requests in c:\\users\\reill\\appdata\\local\\packages\\pythonsoftwarefoundation.python.3.11_qbz5n2kfra8p0\\localcache\\local-packages\\python311\\site-packages (from dataframe-image) (2.31.0)\n",
      "Requirement already satisfied: pillow in c:\\users\\reill\\appdata\\local\\packages\\pythonsoftwarefoundation.python.3.11_qbz5n2kfra8p0\\localcache\\local-packages\\python311\\site-packages (from dataframe-image) (10.1.0)\n",
      "Requirement already satisfied: packaging in c:\\users\\reill\\appdata\\local\\packages\\pythonsoftwarefoundation.python.3.11_qbz5n2kfra8p0\\localcache\\local-packages\\python311\\site-packages (from dataframe-image) (23.2)\n",
      "Requirement already satisfied: mistune in c:\\users\\reill\\appdata\\local\\packages\\pythonsoftwarefoundation.python.3.11_qbz5n2kfra8p0\\localcache\\local-packages\\python311\\site-packages (from dataframe-image) (3.0.2)\n",
      "Requirement already satisfied: lxml in c:\\users\\reill\\appdata\\local\\packages\\pythonsoftwarefoundation.python.3.11_qbz5n2kfra8p0\\localcache\\local-packages\\python311\\site-packages (from dataframe-image) (5.3.0)\n",
      "Requirement already satisfied: beautifulsoup4 in c:\\users\\reill\\appdata\\local\\packages\\pythonsoftwarefoundation.python.3.11_qbz5n2kfra8p0\\localcache\\local-packages\\python311\\site-packages (from dataframe-image) (4.12.2)\n",
      "Collecting cssutils (from dataframe-image)\n",
      "  Downloading cssutils-2.11.1-py3-none-any.whl.metadata (8.7 kB)\n",
      "Collecting playwright (from dataframe-image)\n",
      "  Downloading playwright-1.54.0-py3-none-win_amd64.whl.metadata (3.5 kB)\n",
      "Requirement already satisfied: cssselect in c:\\users\\reill\\appdata\\local\\packages\\pythonsoftwarefoundation.python.3.11_qbz5n2kfra8p0\\localcache\\local-packages\\python311\\site-packages (from dataframe-image) (1.3.0)\n",
      "Requirement already satisfied: aiohappyeyeballs>=2.5.0 in c:\\users\\reill\\appdata\\local\\packages\\pythonsoftwarefoundation.python.3.11_qbz5n2kfra8p0\\localcache\\local-packages\\python311\\site-packages (from aiohttp>=3.10.2->dataframe-image) (2.6.1)\n",
      "Requirement already satisfied: aiosignal>=1.4.0 in c:\\users\\reill\\appdata\\local\\packages\\pythonsoftwarefoundation.python.3.11_qbz5n2kfra8p0\\localcache\\local-packages\\python311\\site-packages (from aiohttp>=3.10.2->dataframe-image) (1.4.0)\n",
      "Requirement already satisfied: attrs>=17.3.0 in c:\\users\\reill\\appdata\\local\\packages\\pythonsoftwarefoundation.python.3.11_qbz5n2kfra8p0\\localcache\\local-packages\\python311\\site-packages (from aiohttp>=3.10.2->dataframe-image) (23.1.0)\n",
      "Requirement already satisfied: frozenlist>=1.1.1 in c:\\users\\reill\\appdata\\local\\packages\\pythonsoftwarefoundation.python.3.11_qbz5n2kfra8p0\\localcache\\local-packages\\python311\\site-packages (from aiohttp>=3.10.2->dataframe-image) (1.7.0)\n",
      "Requirement already satisfied: multidict<7.0,>=4.5 in c:\\users\\reill\\appdata\\local\\packages\\pythonsoftwarefoundation.python.3.11_qbz5n2kfra8p0\\localcache\\local-packages\\python311\\site-packages (from aiohttp>=3.10.2->dataframe-image) (6.6.3)\n",
      "Requirement already satisfied: propcache>=0.2.0 in c:\\users\\reill\\appdata\\local\\packages\\pythonsoftwarefoundation.python.3.11_qbz5n2kfra8p0\\localcache\\local-packages\\python311\\site-packages (from aiohttp>=3.10.2->dataframe-image) (0.3.2)\n",
      "Requirement already satisfied: yarl<2.0,>=1.17.0 in c:\\users\\reill\\appdata\\local\\packages\\pythonsoftwarefoundation.python.3.11_qbz5n2kfra8p0\\localcache\\local-packages\\python311\\site-packages (from aiohttp>=3.10.2->dataframe-image) (1.20.1)\n",
      "Requirement already satisfied: bleach!=5.0.0 in c:\\users\\reill\\appdata\\local\\packages\\pythonsoftwarefoundation.python.3.11_qbz5n2kfra8p0\\localcache\\local-packages\\python311\\site-packages (from nbconvert>=5->dataframe-image) (6.1.0)\n",
      "Requirement already satisfied: defusedxml in c:\\users\\reill\\appdata\\local\\packages\\pythonsoftwarefoundation.python.3.11_qbz5n2kfra8p0\\localcache\\local-packages\\python311\\site-packages (from nbconvert>=5->dataframe-image) (0.7.1)\n",
      "Requirement already satisfied: jinja2>=3.0 in c:\\users\\reill\\appdata\\local\\packages\\pythonsoftwarefoundation.python.3.11_qbz5n2kfra8p0\\localcache\\local-packages\\python311\\site-packages (from nbconvert>=5->dataframe-image) (3.1.2)\n",
      "Requirement already satisfied: jupyter-core>=4.7 in c:\\users\\reill\\appdata\\local\\packages\\pythonsoftwarefoundation.python.3.11_qbz5n2kfra8p0\\localcache\\local-packages\\python311\\site-packages (from nbconvert>=5->dataframe-image) (5.5.0)\n",
      "Requirement already satisfied: jupyterlab-pygments in c:\\users\\reill\\appdata\\local\\packages\\pythonsoftwarefoundation.python.3.11_qbz5n2kfra8p0\\localcache\\local-packages\\python311\\site-packages (from nbconvert>=5->dataframe-image) (0.2.2)\n",
      "Requirement already satisfied: markupsafe>=2.0 in c:\\users\\reill\\appdata\\local\\packages\\pythonsoftwarefoundation.python.3.11_qbz5n2kfra8p0\\localcache\\local-packages\\python311\\site-packages (from nbconvert>=5->dataframe-image) (2.1.3)\n",
      "Requirement already satisfied: nbclient>=0.5.0 in c:\\users\\reill\\appdata\\local\\packages\\pythonsoftwarefoundation.python.3.11_qbz5n2kfra8p0\\localcache\\local-packages\\python311\\site-packages (from nbconvert>=5->dataframe-image) (0.8.0)\n",
      "Requirement already satisfied: nbformat>=5.7 in c:\\users\\reill\\appdata\\local\\packages\\pythonsoftwarefoundation.python.3.11_qbz5n2kfra8p0\\localcache\\local-packages\\python311\\site-packages (from nbconvert>=5->dataframe-image) (5.9.2)\n",
      "Requirement already satisfied: pandocfilters>=1.4.1 in c:\\users\\reill\\appdata\\local\\packages\\pythonsoftwarefoundation.python.3.11_qbz5n2kfra8p0\\localcache\\local-packages\\python311\\site-packages (from nbconvert>=5->dataframe-image) (1.5.0)\n",
      "Requirement already satisfied: pygments>=2.4.1 in c:\\users\\reill\\appdata\\local\\packages\\pythonsoftwarefoundation.python.3.11_qbz5n2kfra8p0\\localcache\\local-packages\\python311\\site-packages (from nbconvert>=5->dataframe-image) (2.16.1)\n",
      "Requirement already satisfied: tinycss2 in c:\\users\\reill\\appdata\\local\\packages\\pythonsoftwarefoundation.python.3.11_qbz5n2kfra8p0\\localcache\\local-packages\\python311\\site-packages (from nbconvert>=5->dataframe-image) (1.2.1)\n",
      "Requirement already satisfied: traitlets>=5.1 in c:\\users\\reill\\appdata\\local\\packages\\pythonsoftwarefoundation.python.3.11_qbz5n2kfra8p0\\localcache\\local-packages\\python311\\site-packages (from nbconvert>=5->dataframe-image) (5.13.0)\n",
      "Requirement already satisfied: numpy>=1.23.2 in c:\\users\\reill\\appdata\\local\\packages\\pythonsoftwarefoundation.python.3.11_qbz5n2kfra8p0\\localcache\\local-packages\\python311\\site-packages (from pandas>=0.24->dataframe-image) (1.26.1)\n",
      "Requirement already satisfied: python-dateutil>=2.8.2 in c:\\users\\reill\\appdata\\local\\packages\\pythonsoftwarefoundation.python.3.11_qbz5n2kfra8p0\\localcache\\local-packages\\python311\\site-packages (from pandas>=0.24->dataframe-image) (2.8.2)\n",
      "Requirement already satisfied: pytz>=2020.1 in c:\\users\\reill\\appdata\\local\\packages\\pythonsoftwarefoundation.python.3.11_qbz5n2kfra8p0\\localcache\\local-packages\\python311\\site-packages (from pandas>=0.24->dataframe-image) (2023.3.post1)\n",
      "Requirement already satisfied: tzdata>=2022.1 in c:\\users\\reill\\appdata\\local\\packages\\pythonsoftwarefoundation.python.3.11_qbz5n2kfra8p0\\localcache\\local-packages\\python311\\site-packages (from pandas>=0.24->dataframe-image) (2023.3)\n",
      "Requirement already satisfied: soupsieve>1.2 in c:\\users\\reill\\appdata\\local\\packages\\pythonsoftwarefoundation.python.3.11_qbz5n2kfra8p0\\localcache\\local-packages\\python311\\site-packages (from beautifulsoup4->dataframe-image) (2.5)\n",
      "Collecting more-itertools (from cssutils->dataframe-image)\n",
      "  Downloading more_itertools-10.7.0-py3-none-any.whl.metadata (37 kB)\n",
      "Collecting pyee<14,>=13 (from playwright->dataframe-image)\n",
      "  Downloading pyee-13.0.0-py3-none-any.whl.metadata (2.9 kB)\n",
      "Collecting greenlet<4.0.0,>=3.1.1 (from playwright->dataframe-image)\n",
      "  Downloading greenlet-3.2.4-cp311-cp311-win_amd64.whl.metadata (4.2 kB)\n",
      "Requirement already satisfied: charset-normalizer<4,>=2 in c:\\users\\reill\\appdata\\local\\packages\\pythonsoftwarefoundation.python.3.11_qbz5n2kfra8p0\\localcache\\local-packages\\python311\\site-packages (from requests->dataframe-image) (3.3.2)\n",
      "Requirement already satisfied: idna<4,>=2.5 in c:\\users\\reill\\appdata\\local\\packages\\pythonsoftwarefoundation.python.3.11_qbz5n2kfra8p0\\localcache\\local-packages\\python311\\site-packages (from requests->dataframe-image) (3.4)\n",
      "Requirement already satisfied: urllib3<3,>=1.21.1 in c:\\users\\reill\\appdata\\local\\packages\\pythonsoftwarefoundation.python.3.11_qbz5n2kfra8p0\\localcache\\local-packages\\python311\\site-packages (from requests->dataframe-image) (1.26.20)\n",
      "Requirement already satisfied: certifi>=2017.4.17 in c:\\users\\reill\\appdata\\local\\packages\\pythonsoftwarefoundation.python.3.11_qbz5n2kfra8p0\\localcache\\local-packages\\python311\\site-packages (from requests->dataframe-image) (2025.6.15)\n",
      "Requirement already satisfied: typing-extensions>=4.2 in c:\\users\\reill\\appdata\\local\\packages\\pythonsoftwarefoundation.python.3.11_qbz5n2kfra8p0\\localcache\\local-packages\\python311\\site-packages (from aiosignal>=1.4.0->aiohttp>=3.10.2->dataframe-image) (4.12.2)\n",
      "Requirement already satisfied: six>=1.9.0 in c:\\users\\reill\\appdata\\local\\packages\\pythonsoftwarefoundation.python.3.11_qbz5n2kfra8p0\\localcache\\local-packages\\python311\\site-packages (from bleach!=5.0.0->nbconvert>=5->dataframe-image) (1.16.0)\n",
      "Requirement already satisfied: webencodings in c:\\users\\reill\\appdata\\local\\packages\\pythonsoftwarefoundation.python.3.11_qbz5n2kfra8p0\\localcache\\local-packages\\python311\\site-packages (from bleach!=5.0.0->nbconvert>=5->dataframe-image) (0.5.1)\n",
      "Requirement already satisfied: platformdirs>=2.5 in c:\\users\\reill\\appdata\\local\\packages\\pythonsoftwarefoundation.python.3.11_qbz5n2kfra8p0\\localcache\\local-packages\\python311\\site-packages (from jupyter-core>=4.7->nbconvert>=5->dataframe-image) (3.11.0)\n",
      "Requirement already satisfied: pywin32>=300 in c:\\users\\reill\\appdata\\local\\packages\\pythonsoftwarefoundation.python.3.11_qbz5n2kfra8p0\\localcache\\local-packages\\python311\\site-packages (from jupyter-core>=4.7->nbconvert>=5->dataframe-image) (306)\n",
      "Requirement already satisfied: jupyter-client>=6.1.12 in c:\\users\\reill\\appdata\\local\\packages\\pythonsoftwarefoundation.python.3.11_qbz5n2kfra8p0\\localcache\\local-packages\\python311\\site-packages (from nbclient>=0.5.0->nbconvert>=5->dataframe-image) (8.6.0)\n",
      "Requirement already satisfied: fastjsonschema in c:\\users\\reill\\appdata\\local\\packages\\pythonsoftwarefoundation.python.3.11_qbz5n2kfra8p0\\localcache\\local-packages\\python311\\site-packages (from nbformat>=5.7->nbconvert>=5->dataframe-image) (2.18.1)\n",
      "Requirement already satisfied: jsonschema>=2.6 in c:\\users\\reill\\appdata\\local\\packages\\pythonsoftwarefoundation.python.3.11_qbz5n2kfra8p0\\localcache\\local-packages\\python311\\site-packages (from nbformat>=5.7->nbconvert>=5->dataframe-image) (4.19.2)\n",
      "Requirement already satisfied: jsonschema-specifications>=2023.03.6 in c:\\users\\reill\\appdata\\local\\packages\\pythonsoftwarefoundation.python.3.11_qbz5n2kfra8p0\\localcache\\local-packages\\python311\\site-packages (from jsonschema>=2.6->nbformat>=5.7->nbconvert>=5->dataframe-image) (2023.7.1)\n",
      "Requirement already satisfied: referencing>=0.28.4 in c:\\users\\reill\\appdata\\local\\packages\\pythonsoftwarefoundation.python.3.11_qbz5n2kfra8p0\\localcache\\local-packages\\python311\\site-packages (from jsonschema>=2.6->nbformat>=5.7->nbconvert>=5->dataframe-image) (0.30.2)\n",
      "Requirement already satisfied: rpds-py>=0.7.1 in c:\\users\\reill\\appdata\\local\\packages\\pythonsoftwarefoundation.python.3.11_qbz5n2kfra8p0\\localcache\\local-packages\\python311\\site-packages (from jsonschema>=2.6->nbformat>=5.7->nbconvert>=5->dataframe-image) (0.12.0)\n",
      "Requirement already satisfied: pyzmq>=23.0 in c:\\users\\reill\\appdata\\local\\packages\\pythonsoftwarefoundation.python.3.11_qbz5n2kfra8p0\\localcache\\local-packages\\python311\\site-packages (from jupyter-client>=6.1.12->nbclient>=0.5.0->nbconvert>=5->dataframe-image) (25.1.1)\n",
      "Requirement already satisfied: tornado>=6.2 in c:\\users\\reill\\appdata\\local\\packages\\pythonsoftwarefoundation.python.3.11_qbz5n2kfra8p0\\localcache\\local-packages\\python311\\site-packages (from jupyter-client>=6.1.12->nbclient>=0.5.0->nbconvert>=5->dataframe-image) (6.3.3)\n",
      "Downloading dataframe_image-0.2.7-py3-none-any.whl (6.7 MB)\n",
      "   ---------------------------------------- 0.0/6.7 MB ? eta -:--:--\n",
      "   - -------------------------------------- 0.3/6.7 MB ? eta -:--:--\n",
      "   ------- -------------------------------- 1.3/6.7 MB 3.7 MB/s eta 0:00:02\n",
      "   ----------------- ---------------------- 2.9/6.7 MB 5.2 MB/s eta 0:00:01\n",
      "   --------------------------------- ------ 5.5/6.7 MB 7.6 MB/s eta 0:00:01\n",
      "   ---------------------------------------- 6.7/6.7 MB 7.6 MB/s eta 0:00:00\n",
      "Downloading cssutils-2.11.1-py3-none-any.whl (385 kB)\n",
      "Downloading playwright-1.54.0-py3-none-win_amd64.whl (35.5 MB)\n",
      "   ---------------------------------------- 0.0/35.5 MB ? eta -:--:--\n",
      "   ------ --------------------------------- 5.8/35.5 MB 27.1 MB/s eta 0:00:02\n",
      "   ------------- -------------------------- 12.3/35.5 MB 32.2 MB/s eta 0:00:01\n",
      "   -------------------------- ------------- 23.6/35.5 MB 38.2 MB/s eta 0:00:01\n",
      "   ---------------------------------------  35.4/35.5 MB 44.1 MB/s eta 0:00:01\n",
      "   ---------------------------------------- 35.5/35.5 MB 40.9 MB/s eta 0:00:00\n",
      "Downloading greenlet-3.2.4-cp311-cp311-win_amd64.whl (299 kB)\n",
      "Downloading pyee-13.0.0-py3-none-any.whl (15 kB)\n",
      "Downloading more_itertools-10.7.0-py3-none-any.whl (65 kB)\n",
      "Installing collected packages: pyee, more-itertools, greenlet, playwright, cssutils, dataframe-image\n",
      "  Attempting uninstall: pyee\n",
      "    Found existing installation: pyee 11.1.1\n",
      "    Uninstalling pyee-11.1.1:\n",
      "      Successfully uninstalled pyee-11.1.1\n",
      "Successfully installed cssutils-2.11.1 dataframe-image-0.2.7 greenlet-3.2.4 more-itertools-10.7.0 playwright-1.54.0 pyee-13.0.0\n",
      "Note: you may need to restart the kernel to use updated packages.\n"
     ]
    },
    {
     "name": "stderr",
     "output_type": "stream",
     "text": [
      "ERROR: pip's dependency resolver does not currently take into account all the packages that are installed. This behaviour is the source of the following dependency conflicts.\n",
      "pyppeteer 2.0.0 requires pyee<12.0.0,>=11.0.0, but you have pyee 13.0.0 which is incompatible.\n",
      "pyppeteer 2.0.0 requires websockets<11.0,>=10.0, but you have websockets 15.0.1 which is incompatible.\n",
      "\n",
      "[notice] A new release of pip is available: 25.0.1 -> 25.2\n",
      "[notice] To update, run: C:\\Users\\reill\\AppData\\Local\\Microsoft\\WindowsApps\\PythonSoftwareFoundation.Python.3.11_qbz5n2kfra8p0\\python.exe -m pip install --upgrade pip\n"
     ]
    }
   ],
   "source": [
    "pip install dataframe-image"
   ]
  },
  {
   "cell_type": "code",
   "execution_count": 34,
   "id": "3a510584",
   "metadata": {},
   "outputs": [
    {
     "data": {
      "image/png": "[encoded data removed]",
      "text/plain": [
       "<Figure size 600x200 with 1 Axes>"
      ]
     },
     "metadata": {},
     "output_type": "display_data"
    }
   ],
   "source": [
    "import matplotlib.pyplot as plt\n",
    "\n",
    "fig, ax = plt.subplots(figsize=(6, 2))  # adjust size as needed\n",
    "ax.axis('off')\n",
    "table = ax.table(\n",
    "    cellText=summary_df.values,\n",
    "    colLabels=summary_df.columns,\n",
    "    rowLabels=summary_df.index,\n",
    "    cellLoc='center',\n",
    "    loc='center'\n",
    ")\n",
    "table.auto_set_font_size(False)\n",
    "table.set_fontsize(10)\n",
    "table.scale(1.2, 1.2)  # adjust scaling\n",
    "\n",
    "plt.savefig(\"summary_table.png\", bbox_inches=\"tight\")\n",
    "plt.show()\n"
   ]
  },
  {
   "cell_type": "code",
   "execution_count": 24,
   "id": "104f6aa9",
   "metadata": {},
   "outputs": [],
   "source": [
    "# 252 trading days ≈ 12 months\n",
    "rolling_corr = daily_returns.rolling(window=252).corr()\n"
   ]
  },
  {
   "cell_type": "code",
   "execution_count": 25,
   "id": "7ba374ce",
   "metadata": {},
   "outputs": [
    {
     "name": "stdout",
     "output_type": "stream",
     "text": [
      "12-Month Rolling Correlation Matrix (as of 2025-08-14):\n",
      "           BEP       NEE      CWEN       ENB       XOM       CVX       COP  \\\n",
      "BEP   1.000000  0.427246  0.517190  0.208912  0.237716  0.192437  0.238093   \n",
      "NEE   0.427246  1.000000  0.548805  0.323881  0.247182  0.231076  0.195138   \n",
      "CWEN  0.517190  0.548805  1.000000  0.386878  0.262831  0.255946  0.251341   \n",
      "ENB   0.208912  0.323881  0.386878  1.000000  0.278549  0.281077  0.242302   \n",
      "XOM   0.237716  0.247182  0.262831  0.278549  1.000000  0.831143  0.807927   \n",
      "CVX   0.192437  0.231076  0.255946  0.281077  0.831143  1.000000  0.810980   \n",
      "COP   0.238093  0.195138  0.251341  0.242302  0.807927  0.810980  1.000000   \n",
      "WMB   0.159115  0.158001  0.364160  0.485549  0.339298  0.341288  0.392833   \n",
      "EOG   0.224193  0.208633  0.190673  0.224784  0.796836  0.802783  0.862839   \n",
      "KMI   0.103934  0.201643  0.341060  0.475682  0.390708  0.395570  0.408357   \n",
      "MPC   0.215820  0.159739  0.239178  0.164426  0.680768  0.695063  0.710632   \n",
      "OKE   0.242307  0.303736  0.412632  0.420246  0.615665  0.633539  0.689569   \n",
      "SLB   0.258580  0.228045  0.219347  0.284156  0.783996  0.796951  0.780443   \n",
      "PSX   0.258454  0.272584  0.261731  0.181483  0.707044  0.749840  0.747593   \n",
      "\n",
      "           WMB       EOG       KMI       MPC       OKE       SLB       PSX  \n",
      "BEP   0.159115  0.224193  0.103934  0.215820  0.242307  0.258580  0.258454  \n",
      "NEE   0.158001  0.208633  0.201643  0.159739  0.303736  0.228045  0.272584  \n",
      "CWEN  0.364160  0.190673  0.341060  0.239178  0.412632  0.219347  0.261731  \n",
      "ENB   0.485549  0.224784  0.475682  0.164426  0.420246  0.284156  0.181483  \n",
      "XOM   0.339298  0.796836  0.390708  0.680768  0.615665  0.783996  0.707044  \n",
      "CVX   0.341288  0.802783  0.395570  0.695063  0.633539  0.796951  0.749840  \n",
      "COP   0.392833  0.862839  0.408357  0.710632  0.689569  0.780443  0.747593  \n",
      "WMB   1.000000  0.404041  0.872297  0.325796  0.719383  0.335454  0.306173  \n",
      "EOG   0.404041  1.000000  0.444343  0.651511  0.675333  0.773467  0.701632  \n",
      "KMI   0.872297  0.444343  1.000000  0.369008  0.737097  0.392346  0.360903  \n",
      "MPC   0.325796  0.651511  0.369008  1.000000  0.562225  0.660043  0.878025  \n",
      "OKE   0.719383  0.675333  0.737097  0.562225  1.000000  0.606129  0.607988  \n",
      "SLB   0.335454  0.773467  0.392346  0.660043  0.606129  1.000000  0.728957  \n",
      "PSX   0.306173  0.701632  0.360903  0.878025  0.607988  0.728957  1.000000  \n"
     ]
    }
   ],
   "source": [
    "# Get the latest 4x4 correlation matrix (as of most recent day)\n",
    "latest_date = rolling_corr.index.get_level_values(0).max()\n",
    "corr_matrix = rolling_corr.loc[latest_date]\n",
    "\n",
    "# Display as 4x4 table\n",
    "print(f\"12-Month Rolling Correlation Matrix (as of {latest_date.date()}):\")\n",
    "print(corr_matrix)\n"
   ]
  },
  {
   "cell_type": "code",
   "execution_count": 37,
   "id": "88878330",
   "metadata": {},
   "outputs": [
    {
     "data": {
      "image/png": "[encoded data removed]",
      "text/plain": [
       "<Figure size 600x300 with 1 Axes>"
      ]
     },
     "metadata": {},
     "output_type": "display_data"
    }
   ],
   "source": [
    "import matplotlib.pyplot as plt\n",
    "\n",
    "# Get the latest correlation matrix\n",
    "latest_date = rolling_corr.index.get_level_values(0).max()\n",
    "corr_matrix = rolling_corr.loc[latest_date]\n",
    "\n",
    "# Create figure\n",
    "fig, ax = plt.subplots(figsize=(6, 3))  # adjust size to fit table\n",
    "ax.axis('off')\n",
    "\n",
    "# Add table\n",
    "table = ax.table(\n",
    "    cellText=corr_matrix.round(2).values,   # round to 2 decimals\n",
    "    colLabels=corr_matrix.columns,\n",
    "    rowLabels=corr_matrix.index,\n",
    "    cellLoc='center',\n",
    "    loc='center'\n",
    ")\n",
    "\n",
    "# Formatting\n",
    "table.auto_set_font_size(False)\n",
    "table.set_fontsize(10)\n",
    "table.scale(1.2, 1.2)\n",
    "\n",
    "# Add title\n",
    "plt.title(f\"12-Month Rolling Correlation Matrix\\n(as of {latest_date.date()})\", fontsize=12, pad=50)\n",
    "\n",
    "# Save as PNG\n",
    "plt.savefig(\"rolling_corr_matrix.png\", bbox_inches=\"tight\")\n",
    "plt.show()\n"
   ]
  },
  {
   "cell_type": "code",
   "execution_count": 38,
   "id": "37e56155",
   "metadata": {},
   "outputs": [
    {
     "ename": "NameError",
     "evalue": "name 'tickers' is not defined",
     "output_type": "error",
     "traceback": [
      "\u001b[1;31m---------------------------------------------------------------------------\u001b[0m",
      "\u001b[1;31mNameError\u001b[0m                                 Traceback (most recent call last)",
      "Cell \u001b[1;32mIn[38], line 12\u001b[0m\n\u001b[0;32m      9\u001b[0m weights_record \u001b[38;5;241m=\u001b[39m []\n\u001b[0;32m     11\u001b[0m \u001b[38;5;28;01mfor\u001b[39;00m i \u001b[38;5;129;01min\u001b[39;00m \u001b[38;5;28mrange\u001b[39m(num_portfolios):\n\u001b[1;32m---> 12\u001b[0m     weights \u001b[38;5;241m=\u001b[39m np\u001b[38;5;241m.\u001b[39mrandom\u001b[38;5;241m.\u001b[39mrandom(\u001b[38;5;28mlen\u001b[39m(\u001b[43mtickers\u001b[49m))\n\u001b[0;32m     13\u001b[0m     weights \u001b[38;5;241m/\u001b[39m\u001b[38;5;241m=\u001b[39m np\u001b[38;5;241m.\u001b[39msum(weights)\n\u001b[0;32m     14\u001b[0m     weights_record\u001b[38;5;241m.\u001b[39mappend(weights)\n",
      "\u001b[1;31mNameError\u001b[0m: name 'tickers' is not defined"
     ]
    }
   ],
   "source": [
    "# Calculate mean daily returns and covariance matrix\n",
    "mean_daily_returns = daily_returns.mean()\n",
    "cov_matrix = daily_returns.cov()\n",
    "trading_days = 252\n",
    "\n",
    "# Monte Carlo simulation\n",
    "num_portfolios = 10_000\n",
    "results = np.zeros((3, num_portfolios))  # rows: return, volatility, Sharpe\n",
    "weights_record = []\n",
    "\n",
    "for i in range(num_portfolios):\n",
    "    weights = np.random.random(len(tickers))\n",
    "    weights /= np.sum(weights)\n",
    "    weights_record.append(weights)\n",
    "\n",
    "    # Portfolio metrics\n",
    "    annual_return = np.sum(mean_daily_returns * weights) * trading_days\n",
    "    annual_volatility = np.sqrt(np.dot(weights.T, np.dot(cov_matrix * trading_days, weights)))\n",
    "    sharpe_ratio = annual_return / annual_volatility\n",
    "\n",
    "    results[0, i] = annual_return\n",
    "    results[1, i] = annual_volatility\n",
    "    results[2, i] = sharpe_ratio\n",
    "\n",
    "# Convert results to DataFrame\n",
    "results_df = pd.DataFrame({\n",
    "    'Return': results[0],\n",
    "    'Volatility': results[1],\n",
    "    'Sharpe Ratio': results[2]\n",
    "})\n",
    "weights_df = pd.DataFrame(weights_record, columns=tickers)\n",
    "portfolio_df = pd.concat([results_df, weights_df], axis=1)\n",
    "\n",
    "# Identify max Sharpe ratio portfolio\n",
    "max_sharpe_idx = results_df['Sharpe Ratio'].idxmax()\n",
    "optimal_port = portfolio_df.loc[max_sharpe_idx]\n",
    "\n",
    "# Plot the portfolios\n",
    "plt.figure(figsize=(12, 8))\n",
    "plt.scatter(results_df['Volatility'], results_df['Return'], c=results_df['Sharpe Ratio'], cmap='viridis', alpha=0.5)\n",
    "plt.colorbar(label='Sharpe Ratio')\n",
    "plt.scatter(optimal_port['Volatility'], optimal_port['Return'], c='red', marker='*', s=200, label='Optimal Portfolio')\n",
    "plt.title('Monte Carlo Simulation of Portfolio Allocations')\n",
    "plt.xlabel('Annualized Volatility')\n",
    "plt.ylabel('Annualized Return')\n",
    "plt.legend()\n",
    "plt.grid(True)\n",
    "plt.show()\n",
    "\n",
    "# Show optimal portfolio weights\n",
    "print(\"Optimal Portfolio Allocation:\")\n",
    "print(optimal_port)"
   ]
  },
  {
   "cell_type": "code",
   "execution_count": 31,
   "id": "ec643783",
   "metadata": {},
   "outputs": [
    {
     "ename": "NameError",
     "evalue": "name 'results' is not defined",
     "output_type": "error",
     "traceback": [
      "\u001b[1;31m---------------------------------------------------------------------------\u001b[0m",
      "\u001b[1;31mNameError\u001b[0m                                 Traceback (most recent call last)",
      "Cell \u001b[1;32mIn[31], line 2\u001b[0m\n\u001b[0;32m      1\u001b[0m \u001b[38;5;66;03m# Create DataFrame\u001b[39;00m\n\u001b[1;32m----> 2\u001b[0m results_df \u001b[38;5;241m=\u001b[39m pd\u001b[38;5;241m.\u001b[39mDataFrame(\u001b[43mresults\u001b[49m)\n\u001b[0;32m      4\u001b[0m \u001b[38;5;66;03m# Plot\u001b[39;00m\n\u001b[0;32m      5\u001b[0m plt\u001b[38;5;241m.\u001b[39mfigure(figsize\u001b[38;5;241m=\u001b[39m(\u001b[38;5;241m12\u001b[39m, \u001b[38;5;241m7\u001b[39m))\n",
      "\u001b[1;31mNameError\u001b[0m: name 'results' is not defined"
     ]
    }
   ],
   "source": [
    "# Create DataFrame\n",
    "results_df = pd.DataFrame(results)\n",
    "\n",
    "# Plot\n",
    "plt.figure(figsize=(12, 7))\n",
    "colors = {'Has Short(s)': 'red', 'No Shorts': 'blue'}\n",
    "for label, group in results_df.groupby('Shorts'):\n",
    "    plt.scatter(group['Volatility'], group['Return'], label=label, color=colors[label], alpha=0.6, s=10)\n",
    "\n",
    "# Formatting\n",
    "plt.title('Mean vs Standard Deviation of Portfolio Returns (Long Only vs Shorts Allowed)')\n",
    "plt.xlabel('Risk: Standard Deviation of Portfolio Returns')\n",
    "plt.ylabel('Return: Mean of Portfolio Returns')\n",
    "plt.axvline(x=results_df[results_df['Shorts'] == 'No Shorts']['Volatility'].max(), color='gray', linestyle='--', alpha=0.6)\n",
    "plt.legend(title='Positions')\n",
    "plt.grid(True)\n",
    "plt.tight_layout()\n",
    "plt.show()\n"
   ]
  }
 ],
 "metadata": {
  "kernelspec": {
   "display_name": "Python 3",
   "language": "python",
   "name": "python3"
  },
  "language_info": {
   "codemirror_mode": {
    "name": "ipython",
    "version": 3
   },
   "file_extension": ".py",
   "mimetype": "text/x-python",
   "name": "python",
   "nbconvert_exporter": "python",
   "pygments_lexer": "ipython3",
   "version": "3.11.9"
  }
 },
 "nbformat": 4,
 "nbformat_minor": 5
}
